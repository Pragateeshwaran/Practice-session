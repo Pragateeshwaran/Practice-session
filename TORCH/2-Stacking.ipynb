{
 "cells": [
  {
   "cell_type": "code",
   "execution_count": 8,
   "metadata": {},
   "outputs": [
    {
     "name": "stdout",
     "output_type": "stream",
     "text": [
      "\u001b[1;31mDocstring:\u001b[0m\n",
      "stack(tensors, dim=0, *, out=None) -> Tensor\n",
      "\n",
      "Concatenates a sequence of tensors along a new dimension.\n",
      "\n",
      "All tensors need to be of the same size.\n",
      "\n",
      ".. seealso::\n",
      "\n",
      "    :func:`torch.cat` concatenates the given sequence along an existing dimension.\n",
      "\n",
      "Arguments:\n",
      "    tensors (sequence of Tensors): sequence of tensors to concatenate\n",
      "    dim (int, optional): dimension to insert. Has to be between 0 and the number\n",
      "        of dimensions of concatenated tensors (inclusive). Default: 0\n",
      "\n",
      "Keyword args:\n",
      "    out (Tensor, optional): the output tensor.\n",
      "\n",
      "Example::\n",
      "\n",
      "    >>> x = torch.randn(2, 3)\n",
      "    >>> x\n",
      "    tensor([[ 0.3367,  0.1288,  0.2345],\n",
      "            [ 0.2303, -1.1229, -0.1863]])\n",
      "    >>> x = torch.stack((x, x)) # same as torch.stack((x, x), dim=0)\n",
      "    >>> x\n",
      "    tensor([[[ 0.3367,  0.1288,  0.2345],\n",
      "             [ 0.2303, -1.1229, -0.1863]],\n",
      "\n",
      "            [[ 0.3367,  0.1288,  0.2345],\n",
      "             [ 0.2303, -1.1229, -0.1863]]])\n",
      "    >>> x.size()\n",
      "    torch.Size([2, 2, 3])\n",
      "    >>> x = torch.stack((x, x), dim=1)\n",
      "    tensor([[[ 0.3367,  0.1288,  0.2345],\n",
      "             [ 0.3367,  0.1288,  0.2345]],\n",
      "\n",
      "            [[ 0.2303, -1.1229, -0.1863],\n",
      "             [ 0.2303, -1.1229, -0.1863]]])\n",
      "    >>> x = torch.stack((x, x), dim=2)\n",
      "    tensor([[[ 0.3367,  0.3367],\n",
      "             [ 0.1288,  0.1288],\n",
      "             [ 0.2345,  0.2345]],\n",
      "\n",
      "            [[ 0.2303,  0.2303],\n",
      "             [-1.1229, -1.1229],\n",
      "             [-0.1863, -0.1863]]])\n",
      "    >>> x = torch.stack((x, x), dim=-1)\n",
      "    tensor([[[ 0.3367,  0.3367],\n",
      "             [ 0.1288,  0.1288],\n",
      "             [ 0.2345,  0.2345]],\n",
      "\n",
      "            [[ 0.2303,  0.2303],\n",
      "             [-1.1229, -1.1229],\n",
      "             [-0.1863, -0.1863]]])\n",
      "\u001b[1;31mType:\u001b[0m      builtin_function_or_method"
     ]
    }
   ],
   "source": [
    "torch.stack??"
   ]
  },
  {
   "cell_type": "code",
   "execution_count": 1,
   "metadata": {},
   "outputs": [
    {
     "data": {
      "text/plain": [
       "tensor([[[0.3588, 0.0119],\n",
       "         [0.5013, 0.6860],\n",
       "         [0.8304, 0.6770]],\n",
       "\n",
       "        [[0.7968, 0.9089],\n",
       "         [0.9247, 0.4923],\n",
       "         [0.2146, 0.1891]]])"
      ]
     },
     "execution_count": 1,
     "metadata": {},
     "output_type": "execute_result"
    }
   ],
   "source": [
    "import torch  \n",
    "var = torch.rand(2, 3 ,2)\n",
    "var"
   ]
  },
  {
   "cell_type": "code",
   "execution_count": 2,
   "metadata": {},
   "outputs": [
    {
     "name": "stdout",
     "output_type": "stream",
     "text": [
      "torch.Size([2, 3, 2])\n"
     ]
    }
   ],
   "source": [
    "print(var.shape)"
   ]
  },
  {
   "cell_type": "code",
   "execution_count": 3,
   "metadata": {},
   "outputs": [
    {
     "data": {
      "text/plain": [
       "tensor([[[[0.3588, 0.0119],\n",
       "          [0.5013, 0.6860],\n",
       "          [0.8304, 0.6770]],\n",
       "\n",
       "         [[0.7968, 0.9089],\n",
       "          [0.9247, 0.4923],\n",
       "          [0.2146, 0.1891]]],\n",
       "\n",
       "\n",
       "        [[[0.3588, 0.0119],\n",
       "          [0.5013, 0.6860],\n",
       "          [0.8304, 0.6770]],\n",
       "\n",
       "         [[0.7968, 0.9089],\n",
       "          [0.9247, 0.4923],\n",
       "          [0.2146, 0.1891]]],\n",
       "\n",
       "\n",
       "        [[[0.3588, 0.0119],\n",
       "          [0.5013, 0.6860],\n",
       "          [0.8304, 0.6770]],\n",
       "\n",
       "         [[0.7968, 0.9089],\n",
       "          [0.9247, 0.4923],\n",
       "          [0.2146, 0.1891]]]])"
      ]
     },
     "execution_count": 3,
     "metadata": {},
     "output_type": "execute_result"
    }
   ],
   "source": [
    "stacked_1 = torch.stack((var, var, var))\n",
    "stacked_1"
   ]
  },
  {
   "cell_type": "code",
   "execution_count": 4,
   "metadata": {},
   "outputs": [
    {
     "data": {
      "text/plain": [
       "torch.Size([3, 2, 3, 2])"
      ]
     },
     "execution_count": 4,
     "metadata": {},
     "output_type": "execute_result"
    }
   ],
   "source": [
    "stacked_1.shape"
   ]
  },
  {
   "cell_type": "code",
   "execution_count": 5,
   "metadata": {},
   "outputs": [
    {
     "data": {
      "text/plain": [
       "(tensor([[[0.3588, 0.0119],\n",
       "          [0.5013, 0.6860],\n",
       "          [0.8304, 0.6770]],\n",
       " \n",
       "         [[0.7968, 0.9089],\n",
       "          [0.9247, 0.4923],\n",
       "          [0.2146, 0.1891]]]),\n",
       " torch.Size([2, 3, 2]))"
      ]
     },
     "execution_count": 5,
     "metadata": {},
     "output_type": "execute_result"
    }
   ],
   "source": [
    "var, var.shape"
   ]
  },
  {
   "cell_type": "code",
   "execution_count": 6,
   "metadata": {},
   "outputs": [
    {
     "name": "stdout",
     "output_type": "stream",
     "text": [
      "torch.Size([2, 2, 3, 2])\n"
     ]
    },
    {
     "data": {
      "text/plain": [
       "tensor([[[[0.3588, 0.0119],\n",
       "          [0.5013, 0.6860],\n",
       "          [0.8304, 0.6770]],\n",
       "\n",
       "         [[0.3588, 0.0119],\n",
       "          [0.5013, 0.6860],\n",
       "          [0.8304, 0.6770]]],\n",
       "\n",
       "\n",
       "        [[[0.7968, 0.9089],\n",
       "          [0.9247, 0.4923],\n",
       "          [0.2146, 0.1891]],\n",
       "\n",
       "         [[0.7968, 0.9089],\n",
       "          [0.9247, 0.4923],\n",
       "          [0.2146, 0.1891]]]])"
      ]
     },
     "execution_count": 6,
     "metadata": {},
     "output_type": "execute_result"
    }
   ],
   "source": [
    "stacked_2 = torch.stack((var, var), dim=1)\n",
    "print(stacked_2.shape)\n",
    "stacked_2"
   ]
  },
  {
   "cell_type": "code",
   "execution_count": null,
   "metadata": {},
   "outputs": [],
   "source": []
  },
  {
   "cell_type": "code",
   "execution_count": null,
   "metadata": {},
   "outputs": [],
   "source": []
  },
  {
   "cell_type": "code",
   "execution_count": null,
   "metadata": {},
   "outputs": [],
   "source": []
  }
 ],
 "metadata": {
  "kernelspec": {
   "display_name": "Python 3",
   "language": "python",
   "name": "python3"
  },
  "language_info": {
   "codemirror_mode": {
    "name": "ipython",
    "version": 3
   },
   "file_extension": ".py",
   "mimetype": "text/x-python",
   "name": "python",
   "nbconvert_exporter": "python",
   "pygments_lexer": "ipython3",
   "version": "3.9.0"
  }
 },
 "nbformat": 4,
 "nbformat_minor": 2
}
